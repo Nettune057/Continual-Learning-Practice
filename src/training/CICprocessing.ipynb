{
 "cells": [
  {
   "cell_type": "code",
   "execution_count": 1,
   "metadata": {},
   "outputs": [],
   "source": [
    "import os\n",
    "import sys\n",
    "sys.path.append(\"../../../\")\n",
    "import configs.config as config"
   ]
  },
  {
   "cell_type": "code",
   "execution_count": 2,
   "metadata": {},
   "outputs": [],
   "source": [
    "import dgl.nn as dglnn\n",
    "from dgl import from_networkx\n",
    "import dgl.function as fn\n",
    "import pandas as pd\n",
    "import numpy as np\n",
    "from sklearn.preprocessing import StandardScaler\n",
    "import src.models.MLP as mlp\n",
    "import torch as th\n",
    "import torch.nn.functional as F\n",
    "import networkx as nx\n",
    "import src.utils.EGScommon as EGScommon\n",
    "import sklearn\n",
    "from sklearn.model_selection import train_test_split"
   ]
  },
  {
   "cell_type": "code",
   "execution_count": 3,
   "metadata": {},
   "outputs": [],
   "source": [
    "device = os.environ.get(\"DEVICE\", config.DEVICE)"
   ]
  },
  {
   "cell_type": "code",
   "execution_count": 4,
   "metadata": {},
   "outputs": [],
   "source": [
    "import os\n",
    "import sys\n",
    "sys.path.append(\"../../../\")\n",
    "import src.data.preprocessing.CICprep as CICprep"
   ]
  },
  {
   "cell_type": "code",
   "execution_count": 5,
   "metadata": {},
   "outputs": [],
   "source": [
    "X_train = CICprep.X_train\n",
    "X_test = CICprep.X_test\n",
    "y_train = CICprep.y_train\n",
    "y_test = CICprep.y_test "
   ]
  },
  {
   "cell_type": "code",
   "execution_count": 6,
   "metadata": {},
   "outputs": [],
   "source": [
    "G = nx.from_pandas_edgelist(X_train, ' Source IP', ' Destination IP', ['h', 'label'],create_using=nx.MultiGraph())\n",
    "G = G.to_directed()\n",
    "G = from_networkx(G, edge_attrs=['h', 'label'])"
   ]
  },
  {
   "cell_type": "code",
   "execution_count": 7,
   "metadata": {},
   "outputs": [],
   "source": [
    "G.ndata['h'] = th.ones(G.num_nodes(), G.edata['h'].shape[1])"
   ]
  },
  {
   "cell_type": "code",
   "execution_count": 8,
   "metadata": {},
   "outputs": [],
   "source": [
    "G.edata['train_mask'] = th.ones(len(G.edata['h']), dtype=th.bool)"
   ]
  },
  {
   "cell_type": "code",
   "execution_count": 9,
   "metadata": {},
   "outputs": [],
   "source": [
    "G.ndata['h'] = th.reshape(G.ndata['h'], (G.ndata['h'].shape[0], 1,G.ndata['h'].shape[1]))\n",
    "G.edata['h'] = th.reshape(G.edata['h'], (G.edata['h'].shape[0], 1,G.edata['h'].shape[1]))"
   ]
  },
  {
   "cell_type": "code",
   "execution_count": 10,
   "metadata": {},
   "outputs": [],
   "source": [
    "class_weights = EGScommon.EGScompute_class_weights(G)\n",
    "class_weights = th.FloatTensor(class_weights).to(device)\n",
    "criterion = th.nn.CrossEntropyLoss(weight=class_weights)"
   ]
  },
  {
   "cell_type": "code",
   "execution_count": 11,
   "metadata": {},
   "outputs": [],
   "source": [
    "G = G.to(device)"
   ]
  },
  {
   "cell_type": "code",
   "execution_count": 12,
   "metadata": {},
   "outputs": [
    {
     "name": "stdout",
     "output_type": "stream",
     "text": [
      "Training acc: 0.7985028624534607\n",
      "New best accuracy: 0.7985\n",
      "Training acc: 0.8866409063339233\n",
      "New best accuracy: 0.8866\n",
      "Training acc: 0.9190614223480225\n",
      "New best accuracy: 0.9191\n",
      "Training acc: 0.9575607180595398\n",
      "New best accuracy: 0.9576\n",
      "Training acc: 0.9577244520187378\n",
      "New best accuracy: 0.9577\n",
      "Training acc: 0.9671343564987183\n",
      "New best accuracy: 0.9671\n",
      "Training acc: 0.9702914953231812\n",
      "New best accuracy: 0.9703\n",
      "Training acc: 0.9718879461288452\n",
      "New best accuracy: 0.9719\n",
      "Training acc: 0.9727885127067566\n",
      "New best accuracy: 0.9728\n",
      "Training acc: 0.9726964235305786\n",
      "Training acc: 0.9704091548919678\n",
      "Training acc: 0.9745129346847534\n",
      "New best accuracy: 0.9745\n",
      "Training acc: 0.9714581370353699\n",
      "Training acc: 0.9724559187889099\n",
      "Training acc: 0.9765238165855408\n",
      "New best accuracy: 0.9765\n",
      "Training acc: 0.9771992564201355\n",
      "New best accuracy: 0.9772\n",
      "Training acc: 0.9777212142944336\n",
      "New best accuracy: 0.9777\n",
      "Training acc: 0.9785654544830322\n",
      "New best accuracy: 0.9786\n",
      "Training acc: 0.9775523543357849\n"
     ]
    }
   ],
   "source": [
    "node_features = G.ndata['h']\n",
    "edge_features = G.edata['h']\n",
    "\n",
    "edge_label = G.edata['label']\n",
    "train_mask = G.edata['train_mask']\n",
    "\n",
    "accuracies = []\n",
    "best_acc = 0\n",
    "best_model_state = None\n",
    "numclasses = len(y_train.value_counts())\n",
    "\n",
    "model = mlp.Model(G.ndata['h'].shape[2], 128, G.ndata['h'].shape[2], F.relu, 0.2, numclasses).to(device)\n",
    "opt = th.optim.Adam(model.parameters())\n",
    "\n",
    "for epoch in range(1,200):\n",
    "    pred = model(G, node_features,edge_features).to(device)\n",
    "    loss = criterion(pred[train_mask] ,edge_label[train_mask])\n",
    "    opt.zero_grad()\n",
    "    loss.backward()\n",
    "    opt.step()\n",
    "    if epoch % 10 == 0:\n",
    "      acc = EGScommon.compute_accuracy(pred[train_mask], edge_label[train_mask])\n",
    "      accuracies.append(acc)\n",
    "      print('Training acc:', EGScommon.compute_accuracy(pred[train_mask], edge_label[train_mask]))\n",
    "      # Save the best model\n",
    "      if acc > best_acc:\n",
    "        best_acc = acc\n",
    "        best_model_state = model.state_dict()\n",
    "        print(f'New best accuracy: {best_acc:.4f}')"
   ]
  },
  {
   "cell_type": "code",
   "execution_count": 13,
   "metadata": {},
   "outputs": [
    {
     "name": "stdout",
     "output_type": "stream",
     "text": [
      "Training completed. Best accuracy achieved: 0.9786\n"
     ]
    }
   ],
   "source": [
    "print(f'Training completed. Best accuracy achieved: {best_acc:.4f}')"
   ]
  },
  {
   "cell_type": "code",
   "execution_count": 14,
   "metadata": {},
   "outputs": [],
   "source": [
    "# X_test is not defined - need to ensure it's loaded before this cell\n",
    "# th is not imported - need to import torch as th\n",
    "# nx is not imported - need to import networkx as nx\n",
    "# from_networkx is not imported - need to import from dgl\n",
    "G_test = nx.from_pandas_edgelist(X_test, \" Source IP\", \" Destination IP\", ['h','label'], create_using=nx.MultiGraph())\n",
    "G_test = G_test.to_directed()\n",
    "G_test = from_networkx(G_test, edge_attrs=['h','label'])\n",
    "actual = G_test.edata.pop('label')\n",
    "G_test.ndata['feature'] = th.ones((G_test.num_nodes(), G.ndata['h'].shape[2]))\n",
    "# Add this line to reshape edge features\n",
    "G_test.edata['h'] = th.reshape(G_test.edata['h'], (G_test.edata['h'].shape[0], 1, G_test.edata['h'].shape[1]))"
   ]
  },
  {
   "cell_type": "code",
   "execution_count": 15,
   "metadata": {},
   "outputs": [],
   "source": [
    "G_test.ndata['feature'] = th.reshape(G_test.ndata['feature'], (G_test.ndata['feature'].shape[0], 1, G_test.ndata['feature'].shape[1]))"
   ]
  },
  {
   "cell_type": "code",
   "execution_count": 16,
   "metadata": {},
   "outputs": [],
   "source": [
    "G_test = G_test.to(device)"
   ]
  },
  {
   "cell_type": "code",
   "execution_count": 17,
   "metadata": {},
   "outputs": [],
   "source": [
    "import timeit\n",
    "start_time = timeit.default_timer()\n",
    "node_features_test = G_test.ndata['feature']\n",
    "edge_features_test = G_test.edata['h']\n",
    "test_pred = model(G_test, node_features_test, edge_features_test).to(device)\n",
    "elapsed = timeit.default_timer() - start_time"
   ]
  },
  {
   "cell_type": "code",
   "execution_count": 18,
   "metadata": {},
   "outputs": [
    {
     "name": "stdout",
     "output_type": "stream",
     "text": [
      "Time taken: 0.10 seconds\n"
     ]
    }
   ],
   "source": [
    "print(f\"Time taken: {elapsed:.2f} seconds\")"
   ]
  },
  {
   "cell_type": "code",
   "execution_count": 19,
   "metadata": {},
   "outputs": [],
   "source": [
    "test_pred = test_pred.argmax(1)"
   ]
  },
  {
   "cell_type": "code",
   "execution_count": 20,
   "metadata": {},
   "outputs": [],
   "source": [
    "test_pred = th.Tensor.cpu(test_pred).detach().numpy()"
   ]
  },
  {
   "cell_type": "code",
   "execution_count": 21,
   "metadata": {},
   "outputs": [],
   "source": [
    "actual = [\"Normal\" if i == 0 else \"Attack\" for i in actual]\n",
    "test_pred = [\"Normal\" if i == 0 else \"Attack\" for i in test_pred]"
   ]
  },
  {
   "cell_type": "code",
   "execution_count": 22,
   "metadata": {},
   "outputs": [
    {
     "data": {
      "image/png": "[encoded data removed]",
      "text/plain": [
       "<Figure size 1200x1200 with 2 Axes>"
      ]
     },
     "metadata": {},
     "output_type": "display_data"
    }
   ],
   "source": [
    "from sklearn.metrics import confusion_matrix\n",
    "\n",
    "EGScommon.plot_confusion_matrix(confusion_matrix(actual, test_pred), \n",
    "                      normalize=False,\n",
    "                      target_names = np.unique(actual),\n",
    "                      title='Confusion Matrix')"
   ]
  }
 ],
 "metadata": {
  "kernelspec": {
   "display_name": "Pytorch",
   "language": "python",
   "name": "python3"
  },
  "language_info": {
   "codemirror_mode": {
    "name": "ipython",
    "version": 3
   },
   "file_extension": ".py",
   "mimetype": "text/x-python",
   "name": "python",
   "nbconvert_exporter": "python",
   "pygments_lexer": "ipython3",
   "version": "3.10.12"
  }
 },
 "nbformat": 4,
 "nbformat_minor": 2
}
