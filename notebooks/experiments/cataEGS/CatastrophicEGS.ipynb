{
 "cells": [
  {
   "cell_type": "code",
   "execution_count": 1,
   "metadata": {},
   "outputs": [],
   "source": [
    "import os\n",
    "import sys\n",
    "sys.path.append(\"../../../\")\n",
    "import configs.config as config\n",
    "import src.data.preprocessing.CICprep as CICprep\n",
    "import src.data.preprocessing.botprep as botprep"
   ]
  },
  {
   "cell_type": "code",
   "execution_count": 2,
   "metadata": {},
   "outputs": [],
   "source": [
    "import dgl.nn as dglnn\n",
    "from dgl import from_networkx\n",
    "import dgl.function as fn\n",
    "import pandas as pd\n",
    "import numpy as np\n",
    "from sklearn.preprocessing import StandardScaler\n",
    "import src.models.MLP as mlp\n",
    "import torch as th\n",
    "import torch.nn.functional as F\n",
    "import networkx as nx\n",
    "import src.utils.EGScommon as EGScommon\n",
    "import sklearn\n",
    "from sklearn.model_selection import train_test_split"
   ]
  },
  {
   "cell_type": "code",
   "execution_count": 3,
   "metadata": {},
   "outputs": [],
   "source": [
    "device = os.environ.get(\"DEVICE\", config.DEVICE)"
   ]
  },
  {
   "cell_type": "code",
   "execution_count": 4,
   "metadata": {},
   "outputs": [],
   "source": [
    "X_A_train = botprep.X_train\n",
    "X_A_test = botprep.X_test\n",
    "y_A_train = botprep.y_train\n",
    "y_A_test = botprep.y_test "
   ]
  },
  {
   "cell_type": "code",
   "execution_count": 5,
   "metadata": {},
   "outputs": [],
   "source": [
    "X_B_train = CICprep.X_train\n",
    "X_B_test = CICprep.X_test\n",
    "y_B_train = CICprep.y_train\n",
    "y_B_test = CICprep.y_test "
   ]
  },
  {
   "cell_type": "code",
   "execution_count": 6,
   "metadata": {},
   "outputs": [],
   "source": [
    "G_A = nx.from_pandas_edgelist(X_A_train, \"IPV4_SRC_ADDR\", \"IPV4_DST_ADDR\", ['h','label'],create_using=nx.MultiGraph())\n",
    "G_A = G_A.to_directed()\n",
    "G_A = from_networkx(G_A, edge_attrs=['h', 'label'])"
   ]
  },
  {
   "cell_type": "code",
   "execution_count": 7,
   "metadata": {},
   "outputs": [],
   "source": [
    "G_A.ndata['h'] = th.ones(G_A.num_nodes(), G_A.edata['h'].shape[1])"
   ]
  },
  {
   "cell_type": "code",
   "execution_count": 8,
   "metadata": {},
   "outputs": [],
   "source": [
    "G_A.edata['train_mask'] = th.ones(len(G_A.edata['h']), dtype=th.bool)"
   ]
  },
  {
   "cell_type": "code",
   "execution_count": 9,
   "metadata": {},
   "outputs": [],
   "source": [
    "G_A.ndata['h'] = th.reshape(G_A.ndata['h'], (G_A.ndata['h'].shape[0], 1,G_A.ndata['h'].shape[1]))\n",
    "G_A.edata['h'] = th.reshape(G_A.edata['h'], (G_A.edata['h'].shape[0], 1,G_A.edata['h'].shape[1]))"
   ]
  },
  {
   "cell_type": "code",
   "execution_count": 10,
   "metadata": {},
   "outputs": [],
   "source": [
    "class_weights = EGScommon.EGScompute_class_weights(G_A)\n",
    "class_weights = th.FloatTensor(class_weights).to(device)\n",
    "criterion = th.nn.CrossEntropyLoss(weight=class_weights)"
   ]
  },
  {
   "cell_type": "code",
   "execution_count": 11,
   "metadata": {},
   "outputs": [],
   "source": [
    "G_A = G_A.to(device)"
   ]
  },
  {
   "cell_type": "code",
   "execution_count": 12,
   "metadata": {},
   "outputs": [
    {
     "name": "stdout",
     "output_type": "stream",
     "text": [
      "Task A (BoT-IoT) Training acc: 0.9345608949661255\n",
      "New best accuracy Task A (BoT-IoT): 0.9346\n",
      "Task A (BoT-IoT) Training acc: 0.9389613270759583\n",
      "New best accuracy Task A (BoT-IoT): 0.9390\n",
      "Task A (BoT-IoT) Training acc: 0.9326587915420532\n",
      "Task A (BoT-IoT) Training acc: 0.9297521710395813\n",
      "Task A (BoT-IoT) Training acc: 0.9160853624343872\n",
      "Task A (BoT-IoT) Training acc: 0.9171113967895508\n",
      "Task A (BoT-IoT) Training acc: 0.9151224493980408\n",
      "Task A (BoT-IoT) Training acc: 0.9148296117782593\n",
      "Task A (BoT-IoT) Training acc: 0.9168221950531006\n"
     ]
    }
   ],
   "source": [
    "node_features_bot = G_A.ndata['h']\n",
    "edge_features_bot = G_A.edata['h']\n",
    "\n",
    "edge_label_bot = G_A.edata['label']\n",
    "train_mask_bot = G_A.edata['train_mask']\n",
    "\n",
    "accuracies_bot = []\n",
    "best_acc_bot = 0\n",
    "best_model_state_bot = None\n",
    "numclasses = len(y_A_train.value_counts())\n",
    "current_epoch_bot = 0\n",
    "epochs = []\n",
    "model = mlp.Model(G_A.ndata['h'].shape[2], 128, G_A.ndata['h'].shape[2], F.relu, 0.2, numclasses).to(device)\n",
    "opt = th.optim.Adam(model.parameters())\n",
    "\n",
    "for epoch in range(1,100):\n",
    "    pred = model(G_A, node_features_bot,edge_features_bot).to(device)\n",
    "    loss = criterion(pred[train_mask_bot] ,edge_label_bot[train_mask_bot])\n",
    "    opt.zero_grad()\n",
    "    loss.backward()\n",
    "    opt.step()\n",
    "    if epoch % 10 == 0:\n",
    "      current_epoch_bot += 10\n",
    "      acc_bot = EGScommon.compute_accuracy(pred[train_mask_bot], edge_label_bot[train_mask_bot])\n",
    "      accuracies_bot.append(acc_bot)\n",
    "      epochs.append(current_epoch_bot)\n",
    "      print('Task A (BoT-IoT) Training acc:', acc_bot)\n",
    "      # Save the best model\n",
    "      if acc_bot > best_acc_bot:\n",
    "        best_acc_bot = acc_bot\n",
    "        best_model_state_bot = model.state_dict()\n",
    "        print(f'New best accuracy Task A (BoT-IoT): {best_acc_bot:.4f}')\n",
    "        th.save(best_model_state_bot, config.PARAM_PATH)"
   ]
  },
  {
   "cell_type": "code",
   "execution_count": 13,
   "metadata": {},
   "outputs": [],
   "source": [
    "# Save Task A performance\n",
    "th.save(best_model_state_bot, config.PARAM_PATH)\n",
    "task_a_accuracy = best_acc_bot"
   ]
  },
  {
   "cell_type": "code",
   "execution_count": 14,
   "metadata": {},
   "outputs": [
    {
     "name": "stdout",
     "output_type": "stream",
     "text": [
      "Task A accuracy before Task B training: 0.9166\n"
     ]
    }
   ],
   "source": [
    "# Evaluate Task A performance before Task B training\n",
    "model.load_state_dict(th.load(config.PARAM_PATH))\n",
    "with th.no_grad():\n",
    "    test_pred_bot = model(G_A, node_features_bot, edge_features_bot).to(device)\n",
    "    task_a_before = EGScommon.compute_accuracy(test_pred_bot[train_mask_bot], edge_label_bot[train_mask_bot])\n",
    "print(f\"Task A accuracy before Task B training: {task_a_before:.4f}\")"
   ]
  },
  {
   "cell_type": "code",
   "execution_count": 15,
   "metadata": {},
   "outputs": [],
   "source": [
    "G_B = nx.from_pandas_edgelist(X_B_train, ' Source IP', ' Destination IP', ['h', 'label'],create_using=nx.MultiGraph())\n",
    "G_B = G_B.to_directed()\n",
    "G_B = from_networkx(G_B, edge_attrs=['h', 'label'])"
   ]
  },
  {
   "cell_type": "code",
   "execution_count": 16,
   "metadata": {},
   "outputs": [],
   "source": [
    "G_B.ndata['h'] = th.ones(G_B.num_nodes(), G_B.edata['h'].shape[1])"
   ]
  },
  {
   "cell_type": "code",
   "execution_count": 17,
   "metadata": {},
   "outputs": [],
   "source": [
    "G_B.edata['train_mask'] = th.ones(len(G_B.edata['h']), dtype=th.bool)"
   ]
  },
  {
   "cell_type": "code",
   "execution_count": 18,
   "metadata": {},
   "outputs": [],
   "source": [
    "G_B.ndata['h'] = th.reshape(G_B.ndata['h'], (G_B.ndata['h'].shape[0], 1,G_B.ndata['h'].shape[1]))\n",
    "G_B.edata['h'] = th.reshape(G_B.edata['h'], (G_B.edata['h'].shape[0], 1,G_B.edata['h'].shape[1]))"
   ]
  },
  {
   "cell_type": "code",
   "execution_count": 19,
   "metadata": {},
   "outputs": [],
   "source": [
    "class_weights = EGScommon.EGScompute_class_weights(G_B)\n",
    "class_weights = th.FloatTensor(class_weights).to(device)\n",
    "criterion = th.nn.CrossEntropyLoss(weight=class_weights)"
   ]
  },
  {
   "cell_type": "code",
   "execution_count": 20,
   "metadata": {},
   "outputs": [],
   "source": [
    "G_B = G_B.to(device)"
   ]
  },
  {
   "cell_type": "code",
   "execution_count": 21,
   "metadata": {},
   "outputs": [
    {
     "name": "stdout",
     "output_type": "stream",
     "text": [
      "Task B (CIC-IDS) Training acc:  0.780460774898529\n",
      "New best accuracy Task B (CIC-IDS): 0.7805\n",
      "Task B (CIC-IDS) Training acc:  0.9044066667556763\n",
      "New best accuracy Task B (CIC-IDS): 0.9044\n",
      "Task B (CIC-IDS) Training acc:  0.9406290054321289\n",
      "New best accuracy Task B (CIC-IDS): 0.9406\n",
      "Task B (CIC-IDS) Training acc:  0.9446917772293091\n",
      "New best accuracy Task B (CIC-IDS): 0.9447\n",
      "Task B (CIC-IDS) Training acc:  0.9443643093109131\n",
      "Task B (CIC-IDS) Training acc:  0.9559080004692078\n",
      "New best accuracy Task B (CIC-IDS): 0.9559\n",
      "Task B (CIC-IDS) Training acc:  0.960206151008606\n",
      "New best accuracy Task B (CIC-IDS): 0.9602\n",
      "Task B (CIC-IDS) Training acc:  0.9657272696495056\n",
      "New best accuracy Task B (CIC-IDS): 0.9657\n",
      "Task B (CIC-IDS) Training acc:  0.9670064449310303\n",
      "New best accuracy Task B (CIC-IDS): 0.9670\n"
     ]
    }
   ],
   "source": [
    "node_features_cic = G_B.ndata['h']\n",
    "edge_features_cic = G_B.edata['h']\n",
    "\n",
    "edge_label_cic = G_B.edata['label']\n",
    "train_mask_cic = G_B.edata['train_mask']\n",
    "\n",
    "accuracies_cic = []\n",
    "best_acc_cic = 0\n",
    "epochs_cic = []\n",
    "current_epoch_cic = 0\n",
    "best_model_state_cic = None\n",
    "numclasses_cic = len(y_B_train.value_counts())\n",
    "\n",
    "model = mlp.Model(G_B.ndata['h'].shape[2], 128, G_B.ndata['h'].shape[2], F.relu, 0.2, numclasses_cic).to(device)\n",
    "opt = th.optim.Adam(model.parameters())\n",
    "\n",
    "for epoch in range(1,100):\n",
    "    pred = model(G_B, node_features_cic,edge_features_cic).to(device)\n",
    "    loss = criterion(pred[train_mask_cic] ,edge_label_cic[train_mask_cic])\n",
    "    opt.zero_grad()\n",
    "    loss.backward()\n",
    "    opt.step()\n",
    "    if epoch % 10 == 0:\n",
    "      current_epoch_cic += 10\n",
    "      acc_cic = EGScommon.compute_accuracy(pred[train_mask_cic], edge_label_cic[train_mask_cic])\n",
    "      accuracies_cic.append(acc_cic)\n",
    "      epochs_cic.append(current_epoch_cic)\n",
    "      print('Task B (CIC-IDS) Training acc: ', acc_cic)\n",
    "      # Save the best model\n",
    "      if acc_cic > best_acc_cic:\n",
    "        best_acc_cic = acc_cic\n",
    "        best_model_state_cic = model.state_dict()\n",
    "        print(f'New best accuracy Task B (CIC-IDS): {best_acc_cic:.4f}')"
   ]
  },
  {
   "cell_type": "code",
   "execution_count": 22,
   "metadata": {},
   "outputs": [
    {
     "name": "stdout",
     "output_type": "stream",
     "text": [
      "Task A accuracy after Task B training: 0.1959\n"
     ]
    }
   ],
   "source": [
    "with th.no_grad():\n",
    "    test_pred_bot = model(G_A, node_features_bot, edge_features_bot).to(device)\n",
    "    task_a_after = EGScommon.compute_accuracy(test_pred_bot[train_mask_bot], edge_label_bot[train_mask_bot])\n",
    "print(f\"Task A accuracy after Task B training: {task_a_after:.4f}\")\n"
   ]
  },
  {
   "cell_type": "code",
   "execution_count": 23,
   "metadata": {},
   "outputs": [
    {
     "name": "stdout",
     "output_type": "stream",
     "text": [
      "\n",
      "Catastrophic Forgetting Analysis:\n",
      "Task A accuracy before Task B: 0.9166\n",
      "Task A accuracy after Task B:  0.1959\n",
      "Performance drop: 0.7207\n"
     ]
    }
   ],
   "source": [
    "# Show catastrophic forgetting effect\n",
    "print(\"\\nCatastrophic Forgetting Analysis:\")\n",
    "print(f\"Task A accuracy before Task B: {task_a_before:.4f}\")\n",
    "print(f\"Task A accuracy after Task B:  {task_a_after:.4f}\")\n",
    "print(f\"Performance drop: {(task_a_before - task_a_after):.4f}\")"
   ]
  },
  {
   "cell_type": "code",
   "execution_count": 25,
   "metadata": {},
   "outputs": [
    {
     "data": {
      "image/png": "[encoded data removed]",
      "text/plain": [
       "<Figure size 1000x600 with 1 Axes>"
      ]
     },
     "metadata": {},
     "output_type": "display_data"
    },
    {
     "data": {
      "text/plain": [
       "<Figure size 640x480 with 0 Axes>"
      ]
     },
     "metadata": {},
     "output_type": "display_data"
    }
   ],
   "source": [
    "import matplotlib.pyplot as plt\n",
    "\n",
    "# Create figure with specified size\n",
    "plt.figure(figsize=(10, 6))\n",
    "\n",
    "# Create bar plot\n",
    "plt.bar(['Before Task B', 'After Task B'], [task_a_before, task_a_after])\n",
    "\n",
    "# Customize the plot\n",
    "plt.title('Catastrophic Forgetting Effect on Task A Performance')\n",
    "plt.ylabel('Accuracy')\n",
    "plt.ylim(0, 1)  # Set y-axis from 0 to 1 since we're dealing with accuracy\n",
    "\n",
    "# Add value labels on top of each bar\n",
    "for i, v in enumerate([task_a_before, task_a_after]):\n",
    "    plt.text(i, v + 0.01, f'{v:.4f}', ha='center')\n",
    "\n",
    "# Add grid for better readability\n",
    "plt.grid(True, axis='y', linestyle='--', alpha=0.7)\n",
    "\n",
    "# Optionally add a horizontal line at initial performance for reference\n",
    "plt.axhline(y=task_a_before, color='r', linestyle='--', alpha=0.3, label='Initial Task A Performance')\n",
    "\n",
    "# Add legend\n",
    "plt.legend()\n",
    "\n",
    "# Show the plot\n",
    "plt.show()\n",
    "\n",
    "# Optionally save the plot\n",
    "plt.savefig('catastrophic_forgetting.png')"
   ]
  },
  {
   "cell_type": "code",
   "execution_count": null,
   "metadata": {},
   "outputs": [],
   "source": []
  }
 ],
 "metadata": {
  "kernelspec": {
   "display_name": "Pytorch",
   "language": "python",
   "name": "python3"
  },
  "language_info": {
   "codemirror_mode": {
    "name": "ipython",
    "version": 3
   },
   "file_extension": ".py",
   "mimetype": "text/x-python",
   "name": "python",
   "nbconvert_exporter": "python",
   "pygments_lexer": "ipython3",
   "version": "3.10.12"
  }
 },
 "nbformat": 4,
 "nbformat_minor": 2
}
